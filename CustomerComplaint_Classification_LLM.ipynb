{
  "nbformat": 4,
  "nbformat_minor": 0,
  "metadata": {
    "colab": {
      "provenance": [],
      "authorship_tag": "ABX9TyN7Evi99WZjgdl2ZRnmWsQx",
      "include_colab_link": true
    },
    "kernelspec": {
      "name": "python3",
      "display_name": "Python 3"
    },
    "language_info": {
      "name": "python"
    }
  },
  "cells": [
    {
      "cell_type": "markdown",
      "metadata": {
        "id": "view-in-github",
        "colab_type": "text"
      },
      "source": [
        "<a href=\"https://colab.research.google.com/github/ShawnLiu119/NLP_Bank_Complaint_Classification/blob/main/CustomerComplaint_Classification_LLM.ipynb\" target=\"_parent\"><img src=\"https://colab.research.google.com/assets/colab-badge.svg\" alt=\"Open In Colab\"/></a>"
      ]
    },
    {
      "cell_type": "markdown",
      "source": [
        "# **Text Classification - Customer Complaints with LLM**"
      ],
      "metadata": {
        "id": "fTnAtn6NGo4_"
      }
    },
    {
      "cell_type": "markdown",
      "source": [
        "Purpose: explore the effectiveness of LLMs in classifying customer complaints and compare with traditional ML apporach\n",
        "\n",
        "1. data source - https://www.kaggle.com/datasets/venkatasubramanian/automatic-ticket-classification\n"
      ],
      "metadata": {
        "id": "xdsAIqu6GxBl"
      }
    },
    {
      "cell_type": "markdown",
      "source": [
        "### Theory Walkthrough\n",
        "Reference:https://towardsdatascience.com/fine-tune-smaller-transformer-models-text-classification-77cbbd3bf02b\n",
        "\n",
        "A **decoder model** takes in a smaller input and outputs a larger text. GPT, which introduced impressive text generation back when, is a decoder model.\n",
        "\n",
        "While larger language models offer more nuanced capabilities today, decoders were not built for tasks that involve extraction and labeling. For these tasks, we can use **encoder models**, which take in more input and provide a condensed output."
      ],
      "metadata": {
        "id": "N8YPBe_2LQ6Y"
      }
    },
    {
      "cell_type": "markdown",
      "source": [
        "User Case for Encoder model:<br>\n",
        "sentiment analysis, categorization, named entity recognition, and keyword extraction, among others."
      ],
      "metadata": {
        "id": "YOsSJklELY76"
      }
    },
    {
      "cell_type": "markdown",
      "source": [],
      "metadata": {
        "id": "wkt7be3iLtxl"
      }
    },
    {
      "cell_type": "code",
      "source": [
        "U"
      ],
      "metadata": {
        "id": "xXKGa4vjLYHc"
      },
      "execution_count": null,
      "outputs": []
    },
    {
      "cell_type": "code",
      "execution_count": null,
      "metadata": {
        "id": "lf66GMgF78r0"
      },
      "outputs": [],
      "source": []
    }
  ]
}